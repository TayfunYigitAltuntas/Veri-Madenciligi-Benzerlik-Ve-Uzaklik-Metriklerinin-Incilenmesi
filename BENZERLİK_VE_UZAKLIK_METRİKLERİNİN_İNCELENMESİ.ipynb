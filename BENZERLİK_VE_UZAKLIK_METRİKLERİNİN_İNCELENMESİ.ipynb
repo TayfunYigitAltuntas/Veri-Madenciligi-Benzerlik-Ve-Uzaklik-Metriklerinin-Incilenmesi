{
  "nbformat": 4,
  "nbformat_minor": 0,
  "metadata": {
    "colab": {
      "name": "BENZERLİK VE UZAKLIK METRİKLERİNİN İNCELENMESİ.ipynb",
      "provenance": [],
      "collapsed_sections": []
    },
    "kernelspec": {
      "name": "python3",
      "display_name": "Python 3"
    },
    "language_info": {
      "name": "python"
    }
  },
  "cells": [
    {
      "cell_type": "markdown",
      "metadata": {
        "id": "jF6-YvPRdpvL"
      },
      "source": [
        "<center><h1>VERİ MADENCİLİĞİNE GİRİŞ</h1><hr></center>\n",
        "\n",
        "<center><strong>BENZERLİK VE UZAKLIK METRİKLERİNİN İNCELENMESİ<strong><center>\n",
        "Tayfun Yiğit ALTUNTAŞ\n",
        "\n",
        "\n",
        "\n",
        "\n",
        "\n",
        "\n"
      ]
    },
    {
      "cell_type": "code",
      "metadata": {
        "id": "1qNFHhCAgPTI"
      },
      "source": [
        ""
      ],
      "execution_count": null,
      "outputs": []
    },
    {
      "cell_type": "markdown",
      "metadata": {
        "id": "MRLaVzILfUVY"
      },
      "source": [
        "\n",
        "\n",
        ">Proje hakkında: Veri madenciliğindeki bazı benzerlik ve uzaklık ölçütlerini öğreniyor olacağız.Bunlar verileri anlamak için çok önemli tekniklerden bazılarıdır.Örneğin Öklid Mesafesi, Kosinüs Benzerliği, Korelasyon, Manhattan Mesafesi ve daha fazlasını burada öğreniyor olacağız.\n",
        "\n",
        "\n"
      ]
    },
    {
      "cell_type": "code",
      "metadata": {
        "id": "AYl1WJr4jDyf"
      },
      "source": [
        "#Öncelikle bu hücreyi çalıştırın.\n",
        "import numpy as np                      #Numpy ve math kütüphanelerini kodumuza dahil ediyoruz.\n",
        "import math         \n",
        "\n",
        "vektor1 = np.array([1,2,4,3,0,0,0])      #Birinci vektörümüzü tanımladık.\n",
        "vektor2 = np.array([1,2,3,4,0,0,0])     #İkinci vektörümüzü tanımladık"
      ],
      "execution_count": 1,
      "outputs": []
    },
    {
      "cell_type": "markdown",
      "metadata": {
        "id": "W8sy2diHgSRu"
      },
      "source": [
        "**1. Öklid Mesafesi - Euclidean Distance**\n",
        ">Öklid mesafesi, geometri problemleri için geleneksel ölçü olarak kabul edilir. Basitçe iki nokta arasındaki olağan mesafe olarak açıklanabilir.Kümeleme analizinde en çok kullanılan algoritmalardan biridir.\n",
        "\n",
        "<center><img src=\"https://upload.wikimedia.org/wikipedia/commons/thumb/5/55/Euclidean_distance_2d.svg/1200px-Euclidean_distance_2d.svg.png\", width='350px'></center>\n",
        "<br>\n",
        "\n"
      ]
    },
    {
      "cell_type": "code",
      "metadata": {
        "id": "xHBVCBCcmSS_"
      },
      "source": [
        "def oklid_mesafesi(vektor1,vektor2):                    #Bu satırda \"oklid_mesafesi\" fonksiyonunu tanımlıyoruz.Bu fonksiyon girdi olarak vektor1 ve vektor2 alıyor.\n",
        "  oklid_metodu = np.sum(np.square(vektor1 - vektor2))   #Öklid mesafe formülünü oluşturuyoruz.\n",
        "  return oklid_metodu                                   #Son olarak \"oklid_metodu\" değişkenimizi fonksiyondan return ediyoruz.\n",
        "  \n",
        "print(np.sqrt(oklid_mesafesi(vektor1,vektor2)))         #Artık \"oklid_mesafesi\" fonksiyonumuzu çağırıp kullanıyoruz."
      ],
      "execution_count": null,
      "outputs": []
    },
    {
      "cell_type": "markdown",
      "metadata": {
        "id": "q5KAauPn3fkr"
      },
      "source": [
        "**2. Kosinüs Benzerliği - Cosine Similarity**<br>\n",
        "\n",
        "> Kosinüs benzerliği, bir iç çarpım uzayının iki vektörü arasındaki benzerliği ölçer. İki vektör arasındaki açının kosinüsü ile ölçülür ve iki vektörün aşağı yukarı aynı yönü gösterip göstermediğini belirler. Genellikle metin analizinde belge benzerliğini ölçmek için kullanılır.\n",
        "\n",
        "\n",
        "<center><img src=\"https://www.veribilimiokulu.com/wp-content/uploads/2020/02/Screenshot-from-2020-02-09-16-19-35.png\", width='500px'></center>\n",
        "<br>\n"
      ]
    },
    {
      "cell_type": "code",
      "metadata": {
        "id": "zGiApdS5cFN6"
      },
      "source": [
        "def kosinus_benzerligi(vektor1,vektor2):       #Bu satırda \"kosinus_benzerligi\" fonksiyonunu tanımlıyoruz.Bu fonksiyon girdi olarak vektor1 ve vektor2 alıyor.\n",
        "  dot = np.dot(vektor1, vektor2)               #Bu satırda nokta çarpımını tanımlıyoruz.\n",
        "  norm_vektor1 = np.linalg.norm(vektor1)       #Birinci vektörün normunu \"np.linalg.norm\" numpy kütüphanesinde bulunun liner cebir fonksiyonundan faydalanarak hesaplıyoruz.\n",
        "  norm_vektor2 = np.linalg.norm(vektor2)       #İkinci vektörün normunu aynı şekilde \"np.linalg.norm\" numpy kütüphanesinde bulunun liner cebir fonksiyonundan faydalanarak hesaplıyoruz.\n",
        "  cos = dot / (norm_vektor1 * norm_vektor2)    #Kosinüs benzerlik formülünü oluşturuyoruz.                       \n",
        "  return  cos                                  #Son olarak \"cos\" değişkenimizi fonksiyondan return ediyoruz\n",
        "\n",
        "print(kosinus_benzerligi(vektor1,vektor2))     #Artık \"kosinus_benzerligi\" fonksiyonumuzu çağırıp kullanıyoruz."
      ],
      "execution_count": null,
      "outputs": []
    },
    {
      "cell_type": "markdown",
      "metadata": {
        "id": "AVD0q_Uz5bdU"
      },
      "source": [
        "**3. Korelasyon - Correlation**\n",
        "\n",
        "\n",
        ">Korelasyon sürekli zamandaki iki değişken arasındaki lineer ilişkiyi tanımlamak için kullanılır(ör.,uzunluk,kilo).Genellikle tanımlanmamış değişken cevabı durumlarında tercih edilir.İki veya daha fazla değişken arasındaki niteliksel büyüklükleri ve lineer ilişkileri ölçer.\n",
        "\n",
        "<center><img src=\"https://www.statisticshowto.com/wp-content/uploads/2012/10/pearson.gif\", width='450px'></center>\n",
        "\n",
        "\n",
        "\n",
        "\n",
        "\n",
        "> Korelasyon aşağıdaki şekilde görüldüğü gibi \"-1\" ile \"1\" arasında değerler almaktadır.\n",
        "\n",
        "\n",
        "<center><img src=\"https://upload.wikimedia.org/wikipedia/commons/thumb/d/d4/Correlation_examples2.svg/1200px-Correlation_examples2.svg.png\", width='500px'></center>\n",
        "<br>\n"
      ]
    },
    {
      "cell_type": "code",
      "metadata": {
        "id": "XZfPu8BnnzRd"
      },
      "source": [
        "def korelasyon(vektor1,vektor2):                                                    #Bu satırda \"kosinus_benzerligi\" fonksiyonunu tanımlıyoruz.Bu fonksiyon girdi olarak nokta1 ve nokta2 alıyor.\n",
        "  return kosinus_benzerligi(vektor1 - np.mean(vektor1), vektor2 - np.mean(vektor2)) #Korelasyon formülü,kosinüs benzerlik formülünü de içermektedir.Ek olarak korelasyon formülünde serinin ortalamasını çıkartmamız gerekmektedir.\n",
        "\n",
        "print(korelasyon(vektor1,vektor2))                                                  #Artık \"korelasyon\" fonksiyonumuzu çağırıp kullanıyoruz."
      ],
      "execution_count": null,
      "outputs": []
    },
    {
      "cell_type": "markdown",
      "metadata": {
        "id": "cZSIHCRT6oaR"
      },
      "source": [
        "**4. Manhattan Mesafesi - Manhattan Distance**\n",
        "\n",
        "> Bir şehirde kare şeklindeki bloklar arasında yol alarak gidilebilecek mesafeyi verir. Diğer bir deyişle bir taksi kare şeklindeki apartmanlar arasında giderek ne kadar yol alır bunu gösterir.\n",
        "\n",
        "> Hesaplama yöntemi olarak verilen iki noktanın koordinatlarının farkının mutlak değeri kullanılabilir.Örneğin P1(x,y) ve P2(s,t) şeklinde iki nokta için\n",
        "formülüze edilirse : Mesafe = |x-s|+|y-t| olarak gösterilir.\n",
        "\n",
        "\n",
        "<center><img src=\"https://static.packt-cdn.com/products/9781789956399/graphics/C12628_01_06.jpg\", width='450px'></center>\n",
        "\n",
        "\n",
        "\n",
        "\n",
        "\n",
        "\n"
      ]
    },
    {
      "cell_type": "code",
      "metadata": {
        "id": "OC8hZ1UjlSUv"
      },
      "source": [
        "def manhattan_mesafesi(vektor1,vektor2):         #Bu satırda \"manhattan_mesafesi\" fonksiyonunu tanımlıyoruz.Bu fonksiyon girdi olarak vektor1 ve vektor2'yi  alıyor.\n",
        "  manhattan_toplam = 0                           #Kümelatif toplam yapmak için  \"manhattan_toplam\" adında 0 değerli bir değişken oluşturduk.\n",
        "  for n1,n2 in zip(vektor1,vektor2):             #For döngüsünü oluştururken \"zip()\" kullanıyoruz.Bunu kullanmamızdaki amaç ise; n1 için birinci vektörden bir değer al,n2 için ise ikinci vektörden değer bir al anlamını taşıyor.\n",
        "    manhattan_toplam += np.abs(n1-n2)            #Manhattan mesafesi formülünü oluşturup kümelatif toplam yapıyoruz. \n",
        "  return manhattan_toplam                        #Son olarak fonksiyon bize üzerine kümelatif toplam yaptığımız \"manhattan_toplam\"'ını döndürüyor.\n",
        " \n",
        "print(manhattan_mesafesi(vektor1,vektor2))       #Artık \"manhattan_mesafesi\" fonksiyonumuzu çağırıp kullanıyoruz."
      ],
      "execution_count": null,
      "outputs": []
    },
    {
      "cell_type": "markdown",
      "metadata": {
        "id": "Ek_Z4dlE6ot5"
      },
      "source": [
        "**5. Minkowski Mesafesi - Minkowski Distance**\n",
        "\n",
        "\n",
        "> En çok kullanılan uzaklık fonksiyonu Minkowski uzaklık fonksiyonudur.Minkowski mesafesi,Öklid ve Manhattan mesafelerinin genelleştirilmiş bir metrik mesafesidir.Formülasyona göre p = 1 değerinde Manhattan mesafesi,p = 2 değerinde ise Öklid mesafesini vermektedir.\n",
        "<center><img src=\"https://cdn-images-1.medium.com/max/500/1*nxGbicBE1MSV4LbBFueJvg.png\", width='450px'></center>\n",
        "\n"
      ]
    },
    {
      "cell_type": "code",
      "metadata": {
        "id": "ycYNkh_b-6aW"
      },
      "source": [
        "def minkowski_mesafesi(vektor1,vektor2,p):            #Bu satırda \"minkowski_mesafesi\" fonksiyonunu tanımlıyoruz.Bu fonksiyon girdi olarak vektor1,vektor2'yi ve p değişkenini alıyor.\n",
        "    minkowski_toplam = 0                              #Kümelatif toplam yapmak için  \"minkowski_toplam\" adında 0 değerli bir değişken oluşturduk.\n",
        "    for xi,yi in zip(vektor1,vektor2):\n",
        "      minkowski_toplam += np.sum(abs(xi-yi)**p)       #Minkowski formülünü tanımlıyoruz fakat \"** 1/p\" ifadesini fonksiyonun sonunda return ederken işletiyoruz.\n",
        "    return minkowski_toplam**(1/p)\n",
        "\n",
        "p = float(input('P değerini giriniz :'))              #P değişkenini kullanıcıdan okumaya ihtiyacımız var.Fakat p eksili değerler de alabildiği için onu float olarak tanımlamamız gerekiyor aksi halde p'ye eksi değer atadığımızda kodumuz çalışmayacaktır.\n",
        "print(minkowski_mesafesi(vektor1,vektor2,p))          #Artık \"minkowski_mesafesi\" fonksiyonumuzu çağırıp kullanıyoruz."
      ],
      "execution_count": null,
      "outputs": []
    },
    {
      "cell_type": "markdown",
      "metadata": {
        "id": "RAcj7cpx7Nzp"
      },
      "source": [
        "**6. Hamming Mesafesi - Hamming Distance**\n",
        "\n",
        "> Hamming mesafesi, iki ikili veri dizisini karşılaştırmak için bir ölçüdür. Eşit uzunluktaki iki ikili dizgiyi karşılaştırırken, Hamming mesafesi, iki bitin farklı olduğu bit konumlarının sayısıdır.Örneğin, (0,0,0,1) ile (1,0,1,0) arasındaki Hamming mesafesini hesaplayacak olursak, üç hane arasında farklılık gösterdiği için sonuç 3'tür.\n",
        "<center><img src=\"https://s0.wp.com/latex.php?latex=d_%7BHamming%7D+%3D+d_H%28%5Cmathbf%7Ba%7D%2C%5Cmathbf%7Bb%7D%29+%3D+%5C%23%5C%7Bj+%3A+a_j+%5Cneq+b_j%2C+j+%3D+0%2C1%2C%5Ccdots%2Cn-1%5C%7D+&bg=ffffff&fg=000&s=1&c=20201002\", width='550px'></center>\n",
        "\n",
        "\n",
        "\n"
      ]
    },
    {
      "cell_type": "code",
      "metadata": {
        "id": "ye1HmkKyavPB"
      },
      "source": [
        "def hamming_mesafesi(vektor1,vektor2):        #Bu satırda \"hamming_mesafesi\" fonksiyonunu tanımlıyoruz.Bu fonksiyon girdi olarak vektor1 ve vektor2'yi alıyor.\n",
        "  hamming_toplam = 0                          #Kümelatif toplam yapmak için  \"hamming_toplam\" adında 0 değerli bir değişken oluşturduk.\n",
        "  for x1,x2 in zip(vektor1,vektor2):     \n",
        "    if (x1!=x2):                              #Bir koşul yardımıyla Hamming mesafesini kontrol ediyoruz.\n",
        "      hamming_toplam += 1                \n",
        "  return hamming_toplam                       #En son üzerine kümelatif toplam yaptığımız değişkeni döndürüyoruz.\n",
        "\n",
        "print(hamming_mesafesi(vektor1,vektor2))      #Artık \"minkowski_mesafesi\" fonksiyonumuzu çağırıp kullanıyoruz."
      ],
      "execution_count": null,
      "outputs": []
    },
    {
      "cell_type": "markdown",
      "metadata": {
        "id": "hAqfxssrpSwO"
      },
      "source": [
        "**Kullanılan Yardımcı Kaynaklar :**\n",
        "\n",
        "1. https://www.sciencedirect.com/topics/computer-science/cosine-similarity#:~:text=Cosine%20similarity%20measures%20the%20similarity,document%20similarity%20in%20text%20analysis.\n",
        "2. https://numpy.org/doc/stable/reference/routines.linalg.html \n",
        "3. http://archive.dimacs.rutgers.edu/dci/2006/Lecture13_Correlation.pdf\n",
        "4. http://bilgisayarkavramlari.com/2007/11/24/kare-uzaklik-sehir-mesafe-uzakligi-taksi-uzakligi-city-block-distance-taxicab-distance/\n",
        "5. https://people.revoledu.com/kardi/tutorial/Similarity/MinkowskiDistance.html\n",
        "6. https://www.gaussianwaves.com/2020/09/euclidean-and-hamming-distances/\n",
        "7. https://www.tutorialspoint.com/what-is-hamming-distance#:~:text=Hamming%20distance%20is%20a%20metric,the%20two%20bits%20are%20different.&text=It%20is%20used%20for%20error,is%20transmitted%20over%20computer%20networks.\n",
        "\n",
        "\n",
        "\n",
        "\n",
        "\n",
        "\n",
        "\n",
        "\n",
        "\n"
      ]
    }
  ]
}